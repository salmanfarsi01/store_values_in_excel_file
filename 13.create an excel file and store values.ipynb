{
 "cells": [
  {
   "cell_type": "code",
   "execution_count": 1,
   "id": "d54df477-d93b-4e49-8fa4-60b75e1040d1",
   "metadata": {},
   "outputs": [
    {
     "name": "stdout",
     "output_type": "stream",
     "text": [
      "Excel file created and saved as stored_values.xlsx\n"
     ]
    }
   ],
   "source": [
    "import openpyxl\n",
    "\n",
    "# Step 1: Create a new Excel workbook\n",
    "workbook = openpyxl.Workbook()\n",
    "\n",
    "# Step 2: Select the active worksheet (by default, it's created for you)\n",
    "sheet = workbook.active\n",
    "\n",
    "# Step 3: Define the values to store in the Excel file\n",
    "values = [4, 5, 7, 8, 9]\n",
    "\n",
    "# Step 4: Write the values to the first column, each in a different row\n",
    "for i, value in enumerate(values, start=1):\n",
    "    sheet.cell(row=i, column=1, value=value)\n",
    "\n",
    "# Step 5: Save the workbook to a file\n",
    "excel_file_path = \"stored_values.xlsx\"\n",
    "workbook.save(excel_file_path)\n",
    "\n",
    "print(f\"Excel file created and saved as {excel_file_path}\")\n"
   ]
  },
  {
   "cell_type": "code",
   "execution_count": 9,
   "id": "7cdcc327-0412-4bca-9e94-eef47963bf32",
   "metadata": {},
   "outputs": [
    {
     "name": "stdin",
     "output_type": "stream",
     "text": [
      "Enter a value to store in the Excel (type 'done' to finish):  2\n",
      "Enter a value to store in the Excel (type 'done' to finish):  4\n",
      "Enter a value to store in the Excel (type 'done' to finish):  5\n",
      "Enter a value to store in the Excel (type 'done' to finish):  7\n",
      "Enter a value to store in the Excel (type 'done' to finish):  9\n",
      "Enter a value to store in the Excel (type 'done' to finish):  0\n",
      "Enter a value to store in the Excel (type 'done' to finish):  done\n"
     ]
    },
    {
     "name": "stdout",
     "output_type": "stream",
     "text": [
      "Excel file created and saved as 'user_input_values.xlsx'\n"
     ]
    }
   ],
   "source": [
    "import openpyxl\n",
    "\n",
    "# Create a new Excel workbook\n",
    "wb = openpyxl.Workbook()\n",
    "sheet = wb.active\n",
    "\n",
    "# Ask the user to input values\n",
    "values = []\n",
    "while True:\n",
    "    value = input(\"Enter a value to store in the Excel (type 'done' to finish): \")\n",
    "    if value.lower() == 'done':\n",
    "        break\n",
    "    values.append(int(value))  # Convert input to integer and add to the list\n",
    "\n",
    "# Write the user-provided values into the Excel sheet\n",
    "for i, value in enumerate(values, start=1):\n",
    "    sheet.cell(row=i, column=1, value=value)\n",
    "\n",
    "# Save the Excel file\n",
    "wb.save(\"user_input_values.xlsx\")\n",
    "print(\"Excel file created and saved as 'user_input_values.xlsx'\")\n"
   ]
  },
  {
   "cell_type": "code",
   "execution_count": null,
   "id": "814b1fbc-dbf1-4652-9dbf-21676e25d98a",
   "metadata": {},
   "outputs": [],
   "source": []
  }
 ],
 "metadata": {
  "kernelspec": {
   "display_name": "ML-KERNEL",
   "language": "python",
   "name": "ml-kernel"
  },
  "language_info": {
   "codemirror_mode": {
    "name": "ipython",
    "version": 3
   },
   "file_extension": ".py",
   "mimetype": "text/x-python",
   "name": "python",
   "nbconvert_exporter": "python",
   "pygments_lexer": "ipython3",
   "version": "3.12.4"
  }
 },
 "nbformat": 4,
 "nbformat_minor": 5
}
